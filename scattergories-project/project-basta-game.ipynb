{
 "cells": [
  {
   "source": [
    "# BASTA (a.k.a Scattergories)\n",
    "## Game Description\n",
    "**Basta (a.k.a. Scattergories | Tutti Frutti)** is a creative-thinking category-based game in which the objective is to score points by uniquely naming objects within a set of categories (in this case: _Name, Last Name, Country, Fruit, Animal, Color, and Thing_), given an initial letter, within a time limit. For the purpose of this project, the game is set in spanish, to measure in a fun way the player's mental agility and knowledge of this language. "
   ],
   "cell_type": "markdown",
   "metadata": {}
  },
  {
   "source": [
    "### The Beginning\n",
    "To build this game, we shall start by importing all the resources (a.k.a _libraries_) that we're going employ in the code ..."
   ],
   "cell_type": "markdown",
   "metadata": {}
  },
  {
   "cell_type": "code",
   "execution_count": 23,
   "metadata": {},
   "outputs": [],
   "source": [
    "\n",
    "# to avoid any problems, it is best to import everything outside of all the functions that are soon to be defined ...\n",
    "\n",
    "from collections import Counter\n",
    "from unicodedata import normalize\n",
    "import numpy as np\n",
    "import os\n",
    "import pandas as pd\n",
    "import pyautogui\n",
    "import random\n",
    "import re\n",
    "import string \n"
   ]
  },
  {
   "source": [
    "Now the coding begins, for starters we're going to define a function that returns a random letter from the alphabet ... \n",
    "\n",
    "_Remember from the game description that one of the criteria for scoring points, is that the player's answers have to start with a respective initial letter._"
   ],
   "cell_type": "markdown",
   "metadata": {}
  },
  {
   "cell_type": "code",
   "execution_count": 40,
   "metadata": {
    "id": "QBBJXHcn-qZI"
   },
   "outputs": [],
   "source": [
    "\n",
    "def alpha():\n",
    "    abecedario = list(string.ascii_lowercase)\n",
    "    # the string library returns the alphabet in a sole string 'abcdef...', by using the list function we create a list with all            letters of the alphabet ['a', 'b', 'c', ...]\n",
    "    letra = random.choice(abecedario)\n",
    "    # using random.choice we gather one letter from the list previously defined.\n",
    "    return letra\n"
   ]
  },
  {
   "source": [
    "As the next step, we're going to define the function that is going to initiate the game by asking the player its answers for each category ..."
   ],
   "cell_type": "markdown",
   "metadata": {}
  },
  {
   "cell_type": "code",
   "execution_count": 41,
   "metadata": {
    "id": "i0sHuyn4SuX9"
   },
   "outputs": [],
   "source": [
    "def play(run, letra, campos): \n",
    "    '''\n",
    "    play() is the responsible function to 'run' the game, as it is going to enable the player to fill their answers.\n",
    "    '''\n",
    "    # run = the decision of the player of initiating the game or not.\n",
    "    # letra = the letter choiced by the function alpha.\n",
    "    # campos = the categories or questions of the game.\n",
    "    # all of the above are going to be defined in the game's main function\n",
    "    respuestas = []\n",
    "    # this is an empty list, in which the user's inputs are going to be saved.\n",
    "    if run == \"Estoy Listo\": # this translates into the player accepting to play\n",
    "        pyautogui.alert('Todo lo que sepas con la Letra %s' % letra, title='Letra')\n",
    "        # with pyautogui we're creating a pop-up message box, in which we're warning the player about the letter to take into                   consideration when answering.\n",
    "        for campo in campos:\n",
    "            respuestas.append(pyautogui.prompt('%s:' % campo, 'Responde :) la letra es %s' % letra,\\\n",
    "                default='Escribe lo primero que se te ocurra ...',root='',timeout=10000))\n",
    "            # with pyautogui.prompt we're creating an input as a message box for each category / question of the game (*7)\n",
    "            # pyautogui.prompt(\n",
    "            #                   question / text,\n",
    "            #                   title of the message box, \n",
    "            #                   default answer, \n",
    "            #                   root, \n",
    "            #                   timeout = the time limit in milliseconds that the console is going to wait for an input ) \n",
    "        print('Tus Respuestas Cerebrito: ', respuestas, '\\n')\n",
    "    else:\n",
    "        print('¡Bu!¡Que hueva me das!'.upper(), '\\n') # this would be the message if the user is not willing to play\n",
    "    return respuestas or print('¡Hasta la Próxima!'.upper(), '\\n')"
   ]
  },
  {
   "source": [
    "By considering the fact that the player is going to be under time pressure, we decided to create a mockup spell checker to correct any typo (_regarding numbers, special characters, and small spelling mistakes_) ..."
   ],
   "cell_type": "markdown",
   "metadata": {}
  },
  {
   "cell_type": "code",
   "execution_count": 42,
   "metadata": {
    "id": "QK4wmHnEMBtO"
   },
   "outputs": [],
   "source": [
    "def clean_ans(answers):\n",
    "    '''\n",
    "    clean_ans(list_of_strings) is a function designed to clean the user's inputs regarding symbols, numbers, and\n",
    "    special characters ... as a plus is going to correct the answers that have more than two letters repeated, and\n",
    "    it is going to ignore any answer with less than three letters. So this function is going to receive a list of \n",
    "    strings to return the same list but with clean and lowercase string.\n",
    "    '''\n",
    "    # answers = is the list of answers created from the play() function\n",
    "    answers = [answer.replace(' ', '') for answer in answers] \n",
    "    # since each answer is supposed to be one word, we're deleting any unnecessary spaces ' '.\n",
    "    answers = [answer.replace('Escribeloprimeroqueseteocurra...', 'NA').replace('Timeout', 'NA') for answer in answers]\n",
    "    # any invalid answer is going to be replace with 'NA'.\n",
    "    conv = lambda answer : answer or 'NA'\n",
    "    respuestas_c_NA = [conv(answer) for answer in answers] \n",
    "    # here, we used an express function 'lambda' to create a new list with the valid and NA answers.\n",
    "    minusculas = ' '.join([answer.lower() for answer in respuestas_c_NA])\n",
    "    # to change all the answers to lowercase, in order to do so, we converted the list of strings into a sole string.\n",
    "    print('MINUSCULAS:', minusculas, '\\n')\n",
    "    # this print is for quality control.\n",
    "    sin_cespeciales = re.sub(r'[^a-zA-Z0-9_\\s]|\\d', '', minusculas)\n",
    "    # we're employing regex to replace any number or symbol found in the create string from above.\n",
    "    sin_acentos = re.sub(r\"([^n\\u0300-\\u036f]|n(?!\\u0303(?![\\u0300-\\u036f])))[\\u0300-\\u036f]+\", r\"\\1\", normalize(\"NFD\", sin_cespeciales), 0, re.I)\n",
    "    # again, we're using regex, but this time to delete any tilde.\n",
    "    s_letras_repetidas = re.sub(r'(.)\\1{2,}', r'\\1', sin_acentos)\n",
    "    # and one more time, regex sub is going to run another cleaning, but right now to delete any letter that repeats more than two          times, for example: 'holaaa' -> 'hola'\n",
    "    palabras = s_letras_repetidas.split()\n",
    "    # finally, we turn the string back to a list of strings.\n",
    "    print('PALABRAS:', palabras, '\\n')\n",
    "    # this print is for quality control.\n",
    "    return palabras"
   ]
  },
  {
   "source": [
    "### Dictionary\n",
    "We downloaded a spanish dictionary for each letter of the alphabet, all of which are found in the directory: _dics_ \n",
    "By referencing to the dictionaries, we're going to correct to run a spelling corrector ..."
   ],
   "cell_type": "markdown",
   "metadata": {}
  },
  {
   "cell_type": "code",
   "execution_count": 43,
   "metadata": {},
   "outputs": [],
   "source": [
    "def dictionary(path, palabra): # path is going to be defined in the main function of the game.\n",
    "    def words(text): return re.findall(r'\\w+', text.lower())\n",
    "    WORDS = Counter(words(open(path).read())) \n",
    "    def P(word, N=sum(WORDS.values())): \n",
    "        \"Probability of `word`.\"\n",
    "        return WORDS[word] / N\n",
    "    def correction(word): \n",
    "        \"Most probable spelling correction for word.\"\n",
    "        return max(candidates(word), key=P)\n",
    "    def candidates(word): \n",
    "        \"Generate possible spelling corrections for word.\"\n",
    "        return (known([word]) or known(edits1(word)) or known(edits2(word)) or [word])\n",
    "    def known(words): \n",
    "        \"The subset of `words` that appear in the dictionary of WORDS.\"\n",
    "        return set(w for w in words if w in WORDS)\n",
    "    def edits1(word):\n",
    "        \"All edits that are one edit away from `word`.\"\n",
    "        letters    = 'abcdefghijklmnopqrstuvwxyz'\n",
    "        splits     = [(word[:i], word[i:])    for i in range(len(word) + 1)]\n",
    "        deletes    = [L + R[1:]               for L, R in splits if R]\n",
    "        transposes = [L + R[1] + R[0] + R[2:] for L, R in splits if len(R)>1]\n",
    "        replaces   = [L + c + R[1:]           for L, R in splits if R for c in letters]\n",
    "        inserts    = [L + c + R               for L, R in splits for c in letters]\n",
    "        return set(deletes + transposes + replaces + inserts)\n",
    "    def edits2(word): \n",
    "        \"All edits that are two edits away from `word`.\"\n",
    "        return (e2 for e1 in edits1(word) for e2 in edits1(e1))\n",
    "    return correction(palabra)\n"
   ]
  },
  {
   "source": [
    "### The Final Parts of the Code ...\n",
    "The following function was built to check that the answers start with the supposed initial letter ..."
   ],
   "cell_type": "markdown",
   "metadata": {}
  },
  {
   "cell_type": "code",
   "execution_count": 44,
   "metadata": {
    "id": "6aOd8lClLRi9"
   },
   "outputs": [],
   "source": [
    "def check_ans(answers, letra, questions):\n",
    "    '''\n",
    "    This function is going to validate all answers that are going to be displayed\n",
    "    in the 'Final Card' which are the final results of the game.\n",
    "    '''\n",
    "    # answers = list of answers that passed through the clean_ans() function\n",
    "    # letra = the letter choiced by alpha()\n",
    "    # questions = list of categories <campos>\n",
    "    pattern = '^%s[a-z]{2,}' % letra\n",
    "    # this is the pattern followed to validate all answers.\n",
    "    print('Regex Patron', pattern, '\\n')\n",
    "    # this print is for quality control purposes.\n",
    "    respuestas_finales = [find for answer in answers for find in re.findall(pattern, answer) or ['???']]\n",
    "    # this list comprehension is going to pass validate answers into a final list ...\n",
    "    # and also any invalid answer is going to be passed as '???'\n",
    "    while len(respuestas_finales) < len(questions):\n",
    "        respuestas_finales.append('???')\n",
    "    # this part of the code is to complete any missing categories that were not filled\n",
    "    # the main reason behind this was because with pandas any None value is going to be ignored\n",
    "    # which didn't help us as we're looking to create a dataframe with all the categories as columns \n",
    "    # even if there were missing answers or inputs.\n",
    "    print(respuestas_finales, '\\n')\n",
    "    # this print is for quality control purposes.\n",
    "    return respuestas_finales"
   ]
  },
  {
   "source": [
    "This function is responsible for displaying the overall scores of the player ..."
   ],
   "cell_type": "markdown",
   "metadata": {}
  },
  {
   "cell_type": "code",
   "execution_count": 45,
   "metadata": {
    "id": "JNRxP3R-ywfc"
   },
   "outputs": [],
   "source": [
    "def finalcard(answers, questions, letra):\n",
    "    '''\n",
    "    This function receives the checked answers from the function above, \n",
    "    to create a dictionary Question : Answer from which a dataframe is returned\n",
    "    by using PANDAS.\n",
    "    '''\n",
    "    dict_quest = {i:questions[i] for i in range(len(questions))} \n",
    "    # this is a dictionary created from list comprehension.\n",
    "    data_frame = pd.DataFrame(np.array(answers).reshape(-1,len(answers))).rename(columns=dict_quest).rename(index=lambda row: letra)\n",
    "    # by combining numpy and pandas we create a personalized data frame.\n",
    "    # the columns are the categories of the game.\n",
    "    # the index is the letter that was defined by alpha()\n",
    "    return data_frame"
   ]
  },
  {
   "source": [
    "The following is a function that prints the rules of the game (_*in spanish_) ..."
   ],
   "cell_type": "markdown",
   "metadata": {}
  },
  {
   "cell_type": "code",
   "execution_count": 46,
   "metadata": {
    "id": "QtQkGTrmdVGG"
   },
   "outputs": [],
   "source": [
    "def reglas():\n",
    "    print('''¡BASTA!\n",
    "    \n",
    "LAS REGLAS DEL JUEGO:\n",
    "\n",
    "1. Deberás escribir una palabra correspondiente a cada categoría, \n",
    "solo tendrás 10 segundos por cada categoría y no cumplir con el tiempo resulta en “timeout”.\n",
    "\n",
    "2. Cada palabra deberá iniciar con la letra que se escogió al azar.\n",
    "\n",
    "3. Te ayudaremos con “typos” pero ¡no somos advinos! \n",
    "\n",
    "Recomendación: En caso de que no tengas una respuesta, deja el campo en blanco y/o presiona ENTER.\n",
    "        ''')"
   ]
  },
  {
   "source": [
    "## The Main Function of the Game\n",
    "This right here is the global function that runs the game, it is composed from all the functions defined in the past cells ..."
   ],
   "cell_type": "markdown",
   "metadata": {}
  },
  {
   "cell_type": "code",
   "execution_count": 47,
   "metadata": {
    "id": "Cpb8YIqW9336"
   },
   "outputs": [],
   "source": [
    "def basta_ind():\n",
    "    \n",
    "    reglas() # starting by showing the rules of the game\n",
    "    \n",
    "    run = pyautogui.confirm(\"Quieres Jugar?\", title='BASTA!', buttons = ['Estoy Listo', 'Nah'])\n",
    "    # this shows a message box in which the player decides to play or not.\n",
    "    campos = [\"Nombre\", \"Apellido\", \"Pais\", \"Fruta\", 'Animal', \"Color\", \"Cosa\"] # defining the questions or categories\n",
    "        \n",
    "    letra = alpha()\n",
    "    \n",
    "    path = os.getcwd()+'\\\\dics'+'\\\\'+f'{letra}.txt'\n",
    "    # this should be thoroughly analyzed, as this could be needed to be changed depending on the path format of your computer.\n",
    "\n",
    "    respuestas = play(run, letra, campos)\n",
    "    \n",
    "    if respuestas != None:\n",
    "        respuestas = list(map(lambda r: '' if r == None else r, respuestas)) # here we replace any None Value answer to a string\n",
    "        respuestas_limpias = clean_ans(respuestas)\n",
    "        respuestas_ortografia = respuestas_limpias[:3] + [dictionary(path, respuesta) for respuesta in respuestas_limpias[3:]]\n",
    "        # here we correct the answers by applying the dictionary function.\n",
    "        # notice that only the last four categories are going to be corrected, since the first three cannot be found within the                 dictionaries that we downloaded.\n",
    "        print(respuestas_ortografia, '\\n')\n",
    "        # this is for quality control purposes (a.k.a. debugging).\n",
    "        respuestas_checadas = check_ans(respuestas_ortografia, letra, campos)\n",
    "        return finalcard(respuestas_checadas, campos, letra)\n",
    "    \n",
    "    else:\n",
    "        return print('¡Ni Modo Tu Te lo Pierdes!'.upper(), '\\n')"
   ]
  },
  {
   "cell_type": "code",
   "execution_count": 48,
   "metadata": {
    "colab": {
     "base_uri": "https://localhost:8080/",
     "height": 773
    },
    "id": "p65mHA7ea6tM",
    "outputId": "46068a15-a11e-4f57-e5bf-cd1f8ccb4002",
    "scrolled": true
   },
   "outputs": [
    {
     "output_type": "stream",
     "name": "stdout",
     "text": [
      "¡BASTA!\n",
      "    \n",
      "LAS REGLAS DEL JUEGO:\n",
      "\n",
      "1. Deberás escribir una palabra correspondiente a cada categoría, \n",
      "solo tendrás 10 segundos por cada categoría y no cumplir con el tiempo resulta en “timeout”.\n",
      "\n",
      "2. Cada palabra deberá iniciar con la letra que se escogió al azar.\n",
      "\n",
      "3. Te ayudaremos con “typos” pero ¡no somos advinos! \n",
      "\n",
      "Recomendación: En caso de que no tengas una respuesta, deja el campo en blanco y/o presiona ENTER.\n",
      "        \n",
      "¡BU!¡QUE HUEVA ME DAS! \n",
      "\n",
      "¡HASTA LA PRÓXIMA! \n",
      "\n",
      "¡NI MODO TU TE LO PIERDES! \n",
      "\n"
     ]
    }
   ],
   "source": [
    "basta_ind() # scenario: the player didnt want to play."
   ]
  },
  {
   "cell_type": "code",
   "execution_count": 49,
   "metadata": {},
   "outputs": [
    {
     "output_type": "stream",
     "name": "stdout",
     "text": [
      "¡BASTA!\n",
      "    \n",
      "LAS REGLAS DEL JUEGO:\n",
      "\n",
      "1. Deberás escribir una palabra correspondiente a cada categoría, \n",
      "solo tendrás 10 segundos por cada categoría y no cumplir con el tiempo resulta en “timeout”.\n",
      "\n",
      "2. Cada palabra deberá iniciar con la letra que se escogió al azar.\n",
      "\n",
      "3. Te ayudaremos con “typos” pero ¡no somos advinos! \n",
      "\n",
      "Recomendación: En caso de que no tengas una respuesta, deja el campo en blanco y/o presiona ENTER.\n",
      "        \n",
      "Tus Respuestas Cerebrito:  ['Ge424 rard 99o', 'Escribe lo primero que se te ocurra ...', None, 'g', 'gati', 'griz', 'Timeout'] \n",
      "\n",
      "MINUSCULAS: ge424rard99o na na g gati griz na \n",
      "\n",
      "PALABRAS: ['gerardo', 'na', 'na', 'g', 'gati', 'griz', 'na'] \n",
      "\n",
      "['gerardo', 'na', 'na', 'g', 'gata', 'gris', 'na'] \n",
      "\n",
      "Regex Patron ^g[a-z]{2,} \n",
      "\n",
      "['gerardo', '???', '???', '???', 'gata', 'gris', '???'] \n",
      "\n"
     ]
    },
    {
     "output_type": "execute_result",
     "data": {
      "text/plain": [
       "    Nombre Apellido Pais Fruta Animal Color Cosa\n",
       "g  gerardo      ???  ???   ???   gata  gris  ???"
      ],
      "text/html": "<div>\n<style scoped>\n    .dataframe tbody tr th:only-of-type {\n        vertical-align: middle;\n    }\n\n    .dataframe tbody tr th {\n        vertical-align: top;\n    }\n\n    .dataframe thead th {\n        text-align: right;\n    }\n</style>\n<table border=\"1\" class=\"dataframe\">\n  <thead>\n    <tr style=\"text-align: right;\">\n      <th></th>\n      <th>Nombre</th>\n      <th>Apellido</th>\n      <th>Pais</th>\n      <th>Fruta</th>\n      <th>Animal</th>\n      <th>Color</th>\n      <th>Cosa</th>\n    </tr>\n  </thead>\n  <tbody>\n    <tr>\n      <th>g</th>\n      <td>gerardo</td>\n      <td>???</td>\n      <td>???</td>\n      <td>???</td>\n      <td>gata</td>\n      <td>gris</td>\n      <td>???</td>\n    </tr>\n  </tbody>\n</table>\n</div>"
     },
     "metadata": {},
     "execution_count": 49
    }
   ],
   "source": [
    "basta_ind() # scenario: the player wants to play."
   ]
  },
  {
   "source": [
    "# To Be Continued ..."
   ],
   "cell_type": "markdown",
   "metadata": {}
  }
 ],
 "metadata": {
  "colab": {
   "collapsed_sections": [],
   "name": "Proyecto-Basta-Final.ipynb",
   "provenance": []
  },
  "kernelspec": {
   "display_name": "Python 3",
   "language": "python",
   "name": "python3"
  },
  "language_info": {
   "codemirror_mode": {
    "name": "ipython",
    "version": 3
   },
   "file_extension": ".py",
   "mimetype": "text/x-python",
   "name": "python",
   "nbconvert_exporter": "python",
   "pygments_lexer": "ipython3",
   "version": "3.8.3-final"
  }
 },
 "nbformat": 4,
 "nbformat_minor": 1
}